{
  "nbformat": 4,
  "nbformat_minor": 0,
  "metadata": {
    "colab": {
      "provenance": []
    },
    "kernelspec": {
      "name": "python3",
      "display_name": "Python 3"
    },
    "language_info": {
      "name": "python"
    }
  },
  "cells": [
    {
      "cell_type": "markdown",
      "source": [
        "Name: Md Khaled Mahmud Shujon\n",
        "\n"
      ],
      "metadata": {
        "id": "Wq6fizhRiMw_"
      }
    },
    {
      "cell_type": "code",
      "source": [
        "import math\n",
        "\n",
        "def compute_equilibrium_potential(z, c_inside, c_outside, temperature):\n",
        "    # Gas constant, J/(K.mol)\n",
        "    R = 8.3144626\n",
        "    # Faraday's constant, J/(volt.mol)\n",
        "    F = 96485.332  \n",
        "    Eeq = (R * temperature / (z * F)) * math.log(c_outside / c_inside)\n",
        "    # Convert to mV\n",
        "    Eeq *= 1000  \n",
        "    return Eeq\n",
        "\n",
        "# List of ions concentrations(mM), temperatures in Kelvin (i.e. 35 °C + 273,15 = 308,15 K) and z, ion charge\n",
        "ion_list = [\n",
        "    {'name': 'K+', 'z': 1., 'concentration_outside': 5.00, 'concentration_inside': 145.0, 'temperature': 308.15},\n",
        "    {'name': 'Cl-', 'z': -1., 'concentration_outside': 150., 'concentration_inside': 10.0, 'temperature': 293.15},\n",
        "    {'name': 'Na+', 'z': 1., 'concentration_outside': 145., 'concentration_inside': 15.0, 'temperature': 298.15},\n",
        "    {'name': 'Ca2+', 'z': 2., 'concentration_outside': 2.00, 'concentration_inside': 1.00E-4, 'temperature': 304.15}\n",
        "]\n",
        "\n",
        "\n",
        "# compute equilibrium potentials for each ion\n",
        "for ion in ion_list:\n",
        "    Eeq = compute_equilibrium_potential(ion['z'], ion['concentration_inside'], ion['concentration_outside'], ion['temperature'])\n",
        "    print(f\"Equilibrium potential for {ion['name']}: {Eeq:.0f}. mV\")\n",
        "   \n"
      ],
      "metadata": {
        "colab": {
          "base_uri": "https://localhost:8080/"
        },
        "id": "So55tVeeialm",
        "outputId": "08bc39a5-b38b-4c90-a1f4-4feaeac9af32"
      },
      "execution_count": 16,
      "outputs": [
        {
          "output_type": "stream",
          "name": "stdout",
          "text": [
            "Equilibrium potential for K+: -89. mV\n",
            "Equilibrium potential for Cl-: -68. mV\n",
            "Equilibrium potential for Na+: 58. mV\n",
            "Equilibrium potential for Ca2+: 130. mV\n"
          ]
        }
      ]
    }
  ]
}